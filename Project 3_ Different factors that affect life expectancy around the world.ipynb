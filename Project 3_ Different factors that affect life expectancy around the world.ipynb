{
 "cells": [
  {
   "cell_type": "code",
   "execution_count": 96,
   "metadata": {},
   "outputs": [],
   "source": [
    "#Project 3 \n",
    "\n",
    "## SDS 348 Spring 2021"
   ]
  },
  {
   "cell_type": "code",
   "execution_count": 97,
   "metadata": {},
   "outputs": [],
   "source": [
    "### Bhoomika Venkatesh, bv5732"
   ]
  },
  {
   "cell_type": "code",
   "execution_count": 98,
   "metadata": {},
   "outputs": [],
   "source": [
    "# IMPORTANT\n",
    "# Running this chunk lets you have multiple outputs from a single chunk; run it first!\n",
    "from IPython.core.interactiveshell import InteractiveShell\n",
    "InteractiveShell.ast_node_interactivity = \"all\""
   ]
  },
  {
   "cell_type": "code",
   "execution_count": 99,
   "metadata": {},
   "outputs": [
    {
     "data": {
      "text/plain": [
       "<module 'numpy.random' from '/opt/jupyterhub/pyvenv/lib/python3.6/site-packages/numpy/random/__init__.py'>"
      ]
     },
     "execution_count": 99,
     "metadata": {},
     "output_type": "execute_result"
    }
   ],
   "source": [
    "# Import packages\n",
    "import numpy as np\n",
    "np.random\n",
    "import pandas as pd\n",
    "import seaborn as sns\n",
    "import matplotlib.pyplot as plt"
   ]
  },
  {
   "cell_type": "code",
   "execution_count": 100,
   "metadata": {},
   "outputs": [
    {
     "name": "stdout",
     "output_type": "stream",
     "text": [
      "             Year      Status  Life_expectancy   Adult_mortality  \\\n",
      "Country                                                            \n",
      "Afghanistan  2015  Developing              65.0            263.0   \n",
      "Afghanistan  2014  Developing              59.9            271.0   \n",
      "Afghanistan  2013  Developing              59.9            268.0   \n",
      "Afghanistan  2012  Developing              59.5            272.0   \n",
      "Afghanistan  2011  Developing              59.2            275.0   \n",
      "Afghanistan  2010  Developing              58.8            279.0   \n",
      "Afghanistan  2009  Developing              58.6            281.0   \n",
      "Afghanistan  2008  Developing              58.1            287.0   \n",
      "Afghanistan  2007  Developing              57.5            295.0   \n",
      "Afghanistan  2006  Developing              57.3            295.0   \n",
      "Afghanistan  2005  Developing              57.3            291.0   \n",
      "Afghanistan  2004  Developing              57.0            293.0   \n",
      "Afghanistan  2003  Developing              56.7            295.0   \n",
      "Afghanistan  2002  Developing              56.2              3.0   \n",
      "Afghanistan  2001  Developing              55.3            316.0   \n",
      "Afghanistan  2000  Developing              54.8            321.0   \n",
      "Albania      2015  Developing              77.8             74.0   \n",
      "Albania      2014  Developing              77.5              8.0   \n",
      "Albania      2013  Developing              77.2             84.0   \n",
      "Albania      2012  Developing              76.9             86.0   \n",
      "Albania      2011  Developing              76.6             88.0   \n",
      "Albania      2010  Developing              76.2             91.0   \n",
      "Albania      2009  Developing              76.1             91.0   \n",
      "Albania      2008  Developing              75.3              1.0   \n",
      "Albania      2007  Developing              75.9              9.0   \n",
      "Albania      2006  Developing              74.2             99.0   \n",
      "Albania      2005  Developing              73.5             15.0   \n",
      "Albania      2004  Developing              73.0             17.0   \n",
      "Albania      2003  Developing              72.8             18.0   \n",
      "Albania      2002  Developing              73.3             15.0   \n",
      "...           ...         ...               ...              ...   \n",
      "Zambia       2013  Developing              63.0            328.0   \n",
      "Zambia       2012  Developing              59.2            349.0   \n",
      "Zambia       2011  Developing              58.2            366.0   \n",
      "Zambia       2010  Developing              58.0            363.0   \n",
      "Zambia       2009  Developing              57.4            368.0   \n",
      "Zambia       2008  Developing              55.7             45.0   \n",
      "Zambia       2007  Developing              52.6            487.0   \n",
      "Zambia       2006  Developing              58.0            526.0   \n",
      "Zambia       2005  Developing              49.3            554.0   \n",
      "Zambia       2004  Developing              47.9            578.0   \n",
      "Zambia       2003  Developing              46.4             64.0   \n",
      "Zambia       2002  Developing              45.5             69.0   \n",
      "Zambia       2001  Developing              44.6            611.0   \n",
      "Zambia       2000  Developing              43.8            614.0   \n",
      "Zimbabwe     2015  Developing              67.0            336.0   \n",
      "Zimbabwe     2014  Developing              59.2            371.0   \n",
      "Zimbabwe     2013  Developing              58.0            399.0   \n",
      "Zimbabwe     2012  Developing              56.6            429.0   \n",
      "Zimbabwe     2011  Developing              54.9            464.0   \n",
      "Zimbabwe     2010  Developing              52.4            527.0   \n",
      "Zimbabwe     2009  Developing              50.0            587.0   \n",
      "Zimbabwe     2008  Developing              48.2            632.0   \n",
      "Zimbabwe     2007  Developing              46.6             67.0   \n",
      "Zimbabwe     2006  Developing              45.4              7.0   \n",
      "Zimbabwe     2005  Developing              44.6            717.0   \n",
      "Zimbabwe     2004  Developing              44.3            723.0   \n",
      "Zimbabwe     2003  Developing              44.5            715.0   \n",
      "Zimbabwe     2002  Developing              44.8             73.0   \n",
      "Zimbabwe     2001  Developing              45.3            686.0   \n",
      "Zimbabwe     2000  Developing              46.0            665.0   \n",
      "\n",
      "             infant_deaths  percentage_expenditure   BMI           GDP  \\\n",
      "Country                                                                  \n",
      "Afghanistan             62               71.279624   19.1   584.259210   \n",
      "Afghanistan             64               73.523582   18.6   612.696514   \n",
      "Afghanistan             66               73.219243   18.1   631.744976   \n",
      "Afghanistan             69               78.184215   17.6   669.959000   \n",
      "Afghanistan             71                7.097109   17.2    63.537231   \n",
      "Afghanistan             74               79.679367   16.7   553.328940   \n",
      "Afghanistan             77               56.762217   16.2   445.893298   \n",
      "Afghanistan             80               25.873925   15.7   373.361116   \n",
      "Afghanistan             82               10.910156   15.2   369.835796   \n",
      "Afghanistan             84               17.171518   14.7   272.563770   \n",
      "Afghanistan             85                1.388648   14.2    25.294130   \n",
      "Afghanistan             87               15.296066   13.8   219.141353   \n",
      "Afghanistan             87               11.089053   13.4   198.728544   \n",
      "Afghanistan             88               16.887351   13.0   187.845950   \n",
      "Afghanistan             88               10.574728   12.6   117.496980   \n",
      "Afghanistan             88               10.424960   12.2   114.560000   \n",
      "Albania                  0              364.975229   58.0  3954.227830   \n",
      "Albania                  0              428.749067   57.2  4575.763787   \n",
      "Albania                  0              430.876979   56.5  4414.723140   \n",
      "Albania                  0              412.443356   55.8  4247.614380   \n",
      "Albania                  0              437.062100   55.1  4437.178680   \n",
      "Albania                  1               41.822757   54.3   494.358832   \n",
      "Albania                  1              348.055952   53.5  4114.136545   \n",
      "Albania                  1               36.622068   52.6   437.539647   \n",
      "Albania                  1               32.246552   51.7   363.136850   \n",
      "Albania                  1                3.302154    5.8    35.129300   \n",
      "Albania                  1               26.993121   49.9   279.142931   \n",
      "Albania                  1              221.842800   48.9  2416.588235   \n",
      "Albania                  1               14.719289   47.9   189.681557   \n",
      "Albania                  1              104.516916   46.9  1453.642777   \n",
      "...                    ...                     ...    ...          ...   \n",
      "Zambia                  29               20.623063   22.3   185.793359   \n",
      "Zambia                  29              196.915250   21.7  1734.936120   \n",
      "Zambia                  29              183.046170   21.2  1644.619672   \n",
      "Zambia                  30              184.364910    2.7  1463.213573   \n",
      "Zambia                  30              143.869887    2.2  1139.112330   \n",
      "Zambia                  31              153.678375   19.7  1369.682490   \n",
      "Zambia                  32               10.851482   19.2   114.587985   \n",
      "Zambia                  33                1.860004   18.8    13.154199   \n",
      "Zambia                  34              121.879331   18.4   691.317816   \n",
      "Zambia                  36                8.369852   18.0    53.277222   \n",
      "Zambia                  39               65.789974   17.6   429.158343   \n",
      "Zambia                  41               54.043480   17.3   377.135244   \n",
      "Zambia                  43               46.830275   17.1   378.273624   \n",
      "Zambia                  44               45.616880   16.8   341.955625   \n",
      "Zimbabwe                22                0.000000   31.8   118.693830   \n",
      "Zimbabwe                23               10.822595   31.3   127.474620   \n",
      "Zimbabwe                25               10.666707    3.8   111.227396   \n",
      "Zimbabwe                26               92.602336    3.3   955.648466   \n",
      "Zimbabwe                28               63.750530   29.9   839.927936   \n",
      "Zimbabwe                29               53.308581   29.4   713.635620   \n",
      "Zimbabwe                30                1.040021   29.0    65.824121   \n",
      "Zimbabwe                30               20.843429   28.6   325.678573   \n",
      "Zimbabwe                29               29.814566   28.2   396.998217   \n",
      "Zimbabwe                28               34.262169   27.9   414.796232   \n",
      "Zimbabwe                28                8.717409   27.5   444.765750   \n",
      "Zimbabwe                27                0.000000   27.1   454.366654   \n",
      "Zimbabwe                26                0.000000   26.7   453.351155   \n",
      "Zimbabwe                25                0.000000   26.3    57.348340   \n",
      "Zimbabwe                25                0.000000   25.9   548.587312   \n",
      "Zimbabwe                24                0.000000   25.5   547.358879   \n",
      "\n",
      "             Population  \n",
      "Country                  \n",
      "Afghanistan  33736494.0  \n",
      "Afghanistan    327582.0  \n",
      "Afghanistan  31731688.0  \n",
      "Afghanistan   3696958.0  \n",
      "Afghanistan   2978599.0  \n",
      "Afghanistan   2883167.0  \n",
      "Afghanistan    284331.0  \n",
      "Afghanistan   2729431.0  \n",
      "Afghanistan  26616792.0  \n",
      "Afghanistan   2589345.0  \n",
      "Afghanistan    257798.0  \n",
      "Afghanistan  24118979.0  \n",
      "Afghanistan   2364851.0  \n",
      "Afghanistan  21979923.0  \n",
      "Afghanistan   2966463.0  \n",
      "Afghanistan    293756.0  \n",
      "Albania         28873.0  \n",
      "Albania        288914.0  \n",
      "Albania        289592.0  \n",
      "Albania          2941.0  \n",
      "Albania        295195.0  \n",
      "Albania        291321.0  \n",
      "Albania       2927519.0  \n",
      "Albania       2947314.0  \n",
      "Albania         29717.0  \n",
      "Albania       2992547.0  \n",
      "Albania        311487.0  \n",
      "Albania        326939.0  \n",
      "Albania        339616.0  \n",
      "Albania          3511.0  \n",
      "...                 ...  \n",
      "Zambia        1515321.0  \n",
      "Zambia       14699937.0  \n",
      "Zambia       14264756.0  \n",
      "Zambia         138533.0  \n",
      "Zambia       13456417.0  \n",
      "Zambia        1382517.0  \n",
      "Zambia       12725974.0  \n",
      "Zambia       12383446.0  \n",
      "Zambia        1252156.0  \n",
      "Zambia       11731746.0  \n",
      "Zambia       11421984.0  \n",
      "Zambia         111249.0  \n",
      "Zambia        1824125.0  \n",
      "Zambia        1531221.0  \n",
      "Zimbabwe     15777451.0  \n",
      "Zimbabwe     15411675.0  \n",
      "Zimbabwe       155456.0  \n",
      "Zimbabwe      1471826.0  \n",
      "Zimbabwe     14386649.0  \n",
      "Zimbabwe      1486317.0  \n",
      "Zimbabwe      1381599.0  \n",
      "Zimbabwe     13558469.0  \n",
      "Zimbabwe      1332999.0  \n",
      "Zimbabwe     13124267.0  \n",
      "Zimbabwe       129432.0  \n",
      "Zimbabwe     12777511.0  \n",
      "Zimbabwe     12633897.0  \n",
      "Zimbabwe       125525.0  \n",
      "Zimbabwe     12366165.0  \n",
      "Zimbabwe     12222251.0  \n",
      "\n",
      "[2938 rows x 9 columns]\n"
     ]
    }
   ],
   "source": [
    "lifeexp = pd.read_csv(\"lifeexpectancy.csv\", index_col = 0) #import life expectancy dataset\n",
    "print(lifeexp)"
   ]
  },
  {
   "cell_type": "code",
   "execution_count": 101,
   "metadata": {},
   "outputs": [
    {
     "name": "stdout",
     "output_type": "stream",
     "text": [
      "<class 'pandas.core.frame.DataFrame'>\n",
      "Index: 2938 entries, Afghanistan to Zimbabwe\n",
      "Data columns (total 9 columns):\n",
      "Year                      2938 non-null int64\n",
      "Status                    2938 non-null object\n",
      "Life_expectancy           2928 non-null float64\n",
      "Adult_mortality           2928 non-null float64\n",
      "infant_deaths             2938 non-null int64\n",
      "percentage_expenditure    2938 non-null float64\n",
      " BMI                      2904 non-null float64\n",
      "GDP                       2490 non-null float64\n",
      "Population                2286 non-null float64\n",
      "dtypes: float64(6), int64(2), object(1)\n",
      "memory usage: 229.5+ KB\n"
     ]
    }
   ],
   "source": [
    "#show information about dataset 'lifeexp'\n",
    "lifeexp.info()"
   ]
  },
  {
   "cell_type": "markdown",
   "metadata": {},
   "source": [
    "This data set is called \"Life expectancy data\", which I titled 'lifeexp' to make it easier for data analysis. This dataset has 2938 observations per variable with a total of 10 variables (the information above states 9 variables but it does not account for the variable 'country'). Each observation represents one of the factors such as BMI, GDP, percentage expenditure, adult mortality, population, infant deaths, and more and its effects on the life expectancy across countries worldwide from Afghanistan to Zimbabwe.The categorical variables in this dataset include 'Country'and 'Status.' There are a lot more numeric variables in the dataset such as 'Year', 'Life_expectancy', 'Adult_mortality', 'infant_deaths','percentage_expenditure','BMI','GDP', and 'Population'. "
   ]
  },
  {
   "cell_type": "code",
   "execution_count": 102,
   "metadata": {},
   "outputs": [
    {
     "data": {
      "text/html": [
       "<div>\n",
       "<style scoped>\n",
       "    .dataframe tbody tr th:only-of-type {\n",
       "        vertical-align: middle;\n",
       "    }\n",
       "\n",
       "    .dataframe tbody tr th {\n",
       "        vertical-align: top;\n",
       "    }\n",
       "\n",
       "    .dataframe thead th {\n",
       "        text-align: right;\n",
       "    }\n",
       "</style>\n",
       "<table border=\"1\" class=\"dataframe\">\n",
       "  <thead>\n",
       "    <tr style=\"text-align: right;\">\n",
       "      <th></th>\n",
       "      <th>Year</th>\n",
       "      <th>Life_expectancy</th>\n",
       "      <th>Adult_mortality</th>\n",
       "      <th>infant_deaths</th>\n",
       "      <th>percentage_expenditure</th>\n",
       "      <th>BMI</th>\n",
       "      <th>GDP</th>\n",
       "      <th>Population</th>\n",
       "    </tr>\n",
       "  </thead>\n",
       "  <tbody>\n",
       "    <tr>\n",
       "      <th>count</th>\n",
       "      <td>2938.000000</td>\n",
       "      <td>2928.000000</td>\n",
       "      <td>2928.000000</td>\n",
       "      <td>2938.000000</td>\n",
       "      <td>2938.000000</td>\n",
       "      <td>2904.000000</td>\n",
       "      <td>2490.000000</td>\n",
       "      <td>2.286000e+03</td>\n",
       "    </tr>\n",
       "    <tr>\n",
       "      <th>mean</th>\n",
       "      <td>2007.518720</td>\n",
       "      <td>69.224932</td>\n",
       "      <td>164.796448</td>\n",
       "      <td>30.303948</td>\n",
       "      <td>738.251295</td>\n",
       "      <td>38.321247</td>\n",
       "      <td>7483.158469</td>\n",
       "      <td>1.275338e+07</td>\n",
       "    </tr>\n",
       "    <tr>\n",
       "      <th>std</th>\n",
       "      <td>4.613841</td>\n",
       "      <td>9.523867</td>\n",
       "      <td>124.292079</td>\n",
       "      <td>117.926501</td>\n",
       "      <td>1987.914858</td>\n",
       "      <td>20.044034</td>\n",
       "      <td>14270.169342</td>\n",
       "      <td>6.101210e+07</td>\n",
       "    </tr>\n",
       "    <tr>\n",
       "      <th>min</th>\n",
       "      <td>2000.000000</td>\n",
       "      <td>36.300000</td>\n",
       "      <td>1.000000</td>\n",
       "      <td>0.000000</td>\n",
       "      <td>0.000000</td>\n",
       "      <td>1.000000</td>\n",
       "      <td>1.681350</td>\n",
       "      <td>3.400000e+01</td>\n",
       "    </tr>\n",
       "    <tr>\n",
       "      <th>25%</th>\n",
       "      <td>2004.000000</td>\n",
       "      <td>63.100000</td>\n",
       "      <td>74.000000</td>\n",
       "      <td>0.000000</td>\n",
       "      <td>4.685343</td>\n",
       "      <td>19.300000</td>\n",
       "      <td>463.935626</td>\n",
       "      <td>1.957932e+05</td>\n",
       "    </tr>\n",
       "    <tr>\n",
       "      <th>50%</th>\n",
       "      <td>2008.000000</td>\n",
       "      <td>72.100000</td>\n",
       "      <td>144.000000</td>\n",
       "      <td>3.000000</td>\n",
       "      <td>64.912906</td>\n",
       "      <td>43.500000</td>\n",
       "      <td>1766.947595</td>\n",
       "      <td>1.386542e+06</td>\n",
       "    </tr>\n",
       "    <tr>\n",
       "      <th>75%</th>\n",
       "      <td>2012.000000</td>\n",
       "      <td>75.700000</td>\n",
       "      <td>228.000000</td>\n",
       "      <td>22.000000</td>\n",
       "      <td>441.534144</td>\n",
       "      <td>56.200000</td>\n",
       "      <td>5910.806335</td>\n",
       "      <td>7.420359e+06</td>\n",
       "    </tr>\n",
       "    <tr>\n",
       "      <th>max</th>\n",
       "      <td>2015.000000</td>\n",
       "      <td>89.000000</td>\n",
       "      <td>723.000000</td>\n",
       "      <td>1800.000000</td>\n",
       "      <td>19479.911610</td>\n",
       "      <td>87.300000</td>\n",
       "      <td>119172.741800</td>\n",
       "      <td>1.293859e+09</td>\n",
       "    </tr>\n",
       "  </tbody>\n",
       "</table>\n",
       "</div>"
      ],
      "text/plain": [
       "              Year  Life_expectancy   Adult_mortality  infant_deaths  \\\n",
       "count  2938.000000       2928.000000      2928.000000    2938.000000   \n",
       "mean   2007.518720         69.224932       164.796448      30.303948   \n",
       "std       4.613841          9.523867       124.292079     117.926501   \n",
       "min    2000.000000         36.300000         1.000000       0.000000   \n",
       "25%    2004.000000         63.100000        74.000000       0.000000   \n",
       "50%    2008.000000         72.100000       144.000000       3.000000   \n",
       "75%    2012.000000         75.700000       228.000000      22.000000   \n",
       "max    2015.000000         89.000000       723.000000    1800.000000   \n",
       "\n",
       "       percentage_expenditure         BMI             GDP    Population  \n",
       "count             2938.000000  2904.000000    2490.000000  2.286000e+03  \n",
       "mean               738.251295    38.321247    7483.158469  1.275338e+07  \n",
       "std               1987.914858    20.044034   14270.169342  6.101210e+07  \n",
       "min                  0.000000     1.000000       1.681350  3.400000e+01  \n",
       "25%                  4.685343    19.300000     463.935626  1.957932e+05  \n",
       "50%                 64.912906    43.500000    1766.947595  1.386542e+06  \n",
       "75%                441.534144    56.200000    5910.806335  7.420359e+06  \n",
       "max              19479.911610    87.300000  119172.741800  1.293859e+09  "
      ]
     },
     "execution_count": 102,
     "metadata": {},
     "output_type": "execute_result"
    }
   ],
   "source": [
    "#statistics of numerical variable life expectancy \n",
    "lifeexp.describe()"
   ]
  },
  {
   "cell_type": "markdown",
   "metadata": {},
   "source": [
    "The mean of the life expectancy amongst countries worldwide is 69.22 years old with a standard deviation of 9.524 years. The average life expectancy would be the sum of all the life expectancies divided by the total count of 2928 observations. The standard deviation of 9.524 years of age means the average life expectancy of 69.22 years can increase or decrease by 9.524 years since standard deviation measures variance in values. This life expectancy is expected to vary amongst countries due to different factors such as percentage expenditure by the country or investment in healthcare overall as this can extend life expectancy. The range of the life expectancy worldwide would be 52.7 years old since we are given the minimum value of 36.3 years of age and the maximum value of 89 years of age for the range to be calculated. This range is the average range life expectancy values fall into. "
   ]
  },
  {
   "cell_type": "code",
   "execution_count": 104,
   "metadata": {},
   "outputs": [
    {
     "data": {
      "text/plain": [
       "<matplotlib.collections.PathCollection at 0x7f2e2e017438>"
      ]
     },
     "execution_count": 104,
     "metadata": {},
     "output_type": "execute_result"
    },
    {
     "data": {
      "text/plain": [
       "Text(0.5,1,'Effects of population on GDP throughout countries worldwide')"
      ]
     },
     "execution_count": 104,
     "metadata": {},
     "output_type": "execute_result"
    },
    {
     "data": {
      "text/plain": [
       "Text(0.5,0,'Population (people)')"
      ]
     },
     "execution_count": 104,
     "metadata": {},
     "output_type": "execute_result"
    },
    {
     "data": {
      "text/plain": [
       "Text(0,0.5,'GDP')"
      ]
     },
     "execution_count": 104,
     "metadata": {},
     "output_type": "execute_result"
    },
    {
     "data": {
      "image/png": "[encoded data removed]",
      "text/plain": [
       "<Figure size 432x288 with 1 Axes>"
      ]
     },
     "metadata": {
      "needs_background": "light"
     },
     "output_type": "display_data"
    }
   ],
   "source": [
    "# create a scatterplot to compare two numeric variables Population and GDP from the dataset\n",
    "plt.scatter(lifeexp.Population , lifeexp.GDP)\n",
    "plt.title(\"Effects of population on GDP throughout countries worldwide\")\n",
    "plt.xlabel(\"Population (people)\")\n",
    "plt.ylabel(\"GDP\")\n",
    "plt.show()"
   ]
  },
  {
   "cell_type": "markdown",
   "metadata": {},
   "source": [
    "I expected to observe a positive relationship between population and GDP since I thought a greater population would mean more people working to produce a higher GDP for a country. According to this scatterplot though, with higher population in a country, there will be more taxes and less incentive to work so there will be lower GDP but on the contrary, smaller populations would have lower taxes and a higher incentive to work resulting in a higher GDP. This scatterplot represents a weak negative correlation between population and GDP in a country since as the population increases, the GDP slowly decreases. "
   ]
  },
  {
   "cell_type": "code",
   "execution_count": 105,
   "metadata": {},
   "outputs": [
    {
     "data": {
      "text/plain": [
       "Developing    2426\n",
       "Developed      512\n",
       "Name: Status, dtype: int64"
      ]
     },
     "execution_count": 105,
     "metadata": {},
     "output_type": "execute_result"
    }
   ],
   "source": [
    "# describe categorical variable 'Status' using counts \n",
    "lifeexp['Status'].value_counts()"
   ]
  },
  {
   "cell_type": "markdown",
   "metadata": {},
   "source": [
    "Categorical variables such as Country and Status were dropped from the summary table earlier. We usually use the function 'value_counts()' to count the total frequency of categorical variables. For example, 2426 counts were of developing countries and 512 counts were of already developed countries out of the countries used in the dataset worldwide. Developing countries had the greatest number of counts for this dataset. "
   ]
  },
  {
   "cell_type": "code",
   "execution_count": 106,
   "metadata": {},
   "outputs": [
    {
     "data": {
      "text/plain": [
       "<BarContainer object of 2938 artists>"
      ]
     },
     "execution_count": 106,
     "metadata": {},
     "output_type": "execute_result"
    },
    {
     "data": {
      "text/plain": [
       "Text(0.5,0,'Status of country')"
      ]
     },
     "execution_count": 106,
     "metadata": {},
     "output_type": "execute_result"
    },
    {
     "data": {
      "text/plain": [
       "Text(0,0.5,'GDP')"
      ]
     },
     "execution_count": 106,
     "metadata": {},
     "output_type": "execute_result"
    },
    {
     "data": {
      "text/plain": [
       "Text(0.5,1,'GDP for country vs status of country')"
      ]
     },
     "execution_count": 106,
     "metadata": {},
     "output_type": "execute_result"
    },
    {
     "data": {
      "image/png": "[encoded data removed]",
      "text/plain": [
       "<Figure size 432x288 with 1 Axes>"
      ]
     },
     "metadata": {
      "needs_background": "light"
     },
     "output_type": "display_data"
    }
   ],
   "source": [
    "# create bar plot to observe relationship between GDP and status of country \n",
    "plt.bar(lifeexp.Status, lifeexp.GDP,color = 'blue')\n",
    "plt.xlabel(\"Status of country\")\n",
    "plt.ylabel(\"GDP\")\n",
    "plt.title(\"GDP for country vs status of country\")\n",
    "plt.show()"
   ]
  },
  {
   "cell_type": "markdown",
   "metadata": {},
   "source": [
    "When the status of the country is 'Developed', the GDP for the country is most likely higher, on average by 28,000, than the GDP for a country with the 'Developing status'. On average, the GDP when the status is developed is 118,000 while the GDP when the status is developing is 90,000. This makes sense since developed countries such as America do not have as high of a population as other developing countries such as India or Africa, meaning there are lower taxes and they are more willing to work for a higher GDP as a result. Also, GDP is lower in developing countries because the high birth rate in developing countries offsets the steady increase in GDP over time. The gap might be closing in future generations to come with more women giving birth to fewer kids at later times with education on the rise in developing countries. "
   ]
  }
 ],
 "metadata": {
  "kernelspec": {
   "display_name": "Python 3",
   "language": "python",
   "name": "python3"
  },
  "language_info": {
   "codemirror_mode": {
    "name": "ipython",
    "version": 3
   },
   "file_extension": ".py",
   "mimetype": "text/x-python",
   "name": "python",
   "nbconvert_exporter": "python",
   "pygments_lexer": "ipython3",
   "version": "3.6.9"
  }
 },
 "nbformat": 4,
 "nbformat_minor": 4
}
